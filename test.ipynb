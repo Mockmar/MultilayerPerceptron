{
 "cells": [
  {
   "cell_type": "code",
   "execution_count": 1,
   "id": "bc71e4c0",
   "metadata": {},
   "outputs": [],
   "source": [
    "import pandas as pd\n",
    "import numpy as np\n",
    "import matplotlib.pyplot as plt\n",
    "import seaborn as sns\n",
    "from Neuron.NeuronNetwork import Model\n",
    "from fonction_activation.LeakyRelu import LeakyRelu"
   ]
  },
  {
   "cell_type": "code",
   "execution_count": 2,
   "id": "589bf44c",
   "metadata": {},
   "outputs": [
    {
     "data": {
      "text/plain": [
       "(568, 32)"
      ]
     },
     "execution_count": 2,
     "metadata": {},
     "output_type": "execute_result"
    }
   ],
   "source": [
    "df = pd.read_csv('data/data.csv')\n",
    "matrice = df.to_numpy()\n",
    "matrice.shape"
   ]
  },
  {
   "cell_type": "code",
   "execution_count": 3,
   "id": "3b3cab78",
   "metadata": {},
   "outputs": [
    {
     "data": {
      "text/plain": [
       "array([[0.25557391, 0.8258931 , 0.94814942],\n",
       "       [0.37414469, 0.61429034, 0.58766329],\n",
       "       [0.44290621, 0.98671034, 0.87879258],\n",
       "       [0.86084436, 0.97666437, 0.55001523],\n",
       "       [0.36487604, 0.12061722, 0.78732716],\n",
       "       [0.75337134, 0.03108911, 0.33648419],\n",
       "       [0.53321747, 0.36781743, 0.33553014],\n",
       "       [0.52440858, 0.3494639 , 0.44297943],\n",
       "       [0.49790254, 0.4126743 , 0.02240485],\n",
       "       [0.60914701, 0.104869  , 0.99262565]])"
      ]
     },
     "execution_count": 3,
     "metadata": {},
     "output_type": "execute_result"
    }
   ],
   "source": [
    "random_matrice = np.random.rand(10, 3)\n",
    "random_matrice"
   ]
  },
  {
   "cell_type": "code",
   "execution_count": 4,
   "id": "0e8ef2f7",
   "metadata": {},
   "outputs": [
    {
     "name": "stdout",
     "output_type": "stream",
     "text": [
      "[[1.]\n",
      " [1.]\n",
      " [1.]\n",
      " [1.]\n",
      " [1.]\n",
      " [1.]\n",
      " [1.]\n",
      " [1.]\n",
      " [1.]\n",
      " [1.]]\n"
     ]
    }
   ],
   "source": [
    "unitaire = np.ones((random_matrice.shape[0], 1))\n",
    "print(unitaire)"
   ]
  },
  {
   "cell_type": "code",
   "execution_count": 5,
   "id": "02e7625e",
   "metadata": {},
   "outputs": [
    {
     "data": {
      "text/plain": [
       "(10, 4)"
      ]
     },
     "execution_count": 5,
     "metadata": {},
     "output_type": "execute_result"
    }
   ],
   "source": [
    "new_matrice = np.c_[random_matrice, unitaire]\n",
    "new_matrice.shape"
   ]
  },
  {
   "cell_type": "code",
   "execution_count": 6,
   "id": "a7d003e5",
   "metadata": {},
   "outputs": [
    {
     "data": {
      "text/plain": [
       "array([[0.25557391, 0.8258931 , 0.94814942, 1.        ],\n",
       "       [0.37414469, 0.61429034, 0.58766329, 1.        ],\n",
       "       [0.44290621, 0.98671034, 0.87879258, 1.        ],\n",
       "       [0.86084436, 0.97666437, 0.55001523, 1.        ],\n",
       "       [0.36487604, 0.12061722, 0.78732716, 1.        ],\n",
       "       [0.75337134, 0.03108911, 0.33648419, 1.        ],\n",
       "       [0.53321747, 0.36781743, 0.33553014, 1.        ],\n",
       "       [0.52440858, 0.3494639 , 0.44297943, 1.        ],\n",
       "       [0.49790254, 0.4126743 , 0.02240485, 1.        ],\n",
       "       [0.60914701, 0.104869  , 0.99262565, 1.        ]])"
      ]
     },
     "execution_count": 6,
     "metadata": {},
     "output_type": "execute_result"
    }
   ],
   "source": [
    "new_matrice"
   ]
  },
  {
   "cell_type": "code",
   "execution_count": 8,
   "id": "70a66bdf",
   "metadata": {},
   "outputs": [],
   "source": [
    "model = Model()\n",
    "model.add_layer(output_size=3, activation_function=LeakyRelu, input_size=4)\n",
    "model.add_layer(output_size=3, activation_function=LeakyRelu)\n",
    "model.add_layer(output_size=2, activation_function=LeakyRelu)"
   ]
  },
  {
   "cell_type": "code",
   "execution_count": 9,
   "id": "ec45e30e",
   "metadata": {},
   "outputs": [
    {
     "data": {
      "text/plain": [
       "array([[0.25557391, 0.8258931 , 0.94814942, 1.        ],\n",
       "       [0.37414469, 0.61429034, 0.58766329, 1.        ],\n",
       "       [0.44290621, 0.98671034, 0.87879258, 1.        ],\n",
       "       [0.86084436, 0.97666437, 0.55001523, 1.        ],\n",
       "       [0.36487604, 0.12061722, 0.78732716, 1.        ],\n",
       "       [0.75337134, 0.03108911, 0.33648419, 1.        ],\n",
       "       [0.53321747, 0.36781743, 0.33553014, 1.        ],\n",
       "       [0.52440858, 0.3494639 , 0.44297943, 1.        ],\n",
       "       [0.49790254, 0.4126743 , 0.02240485, 1.        ],\n",
       "       [0.60914701, 0.104869  , 0.99262565, 1.        ]])"
      ]
     },
     "execution_count": 9,
     "metadata": {},
     "output_type": "execute_result"
    }
   ],
   "source": [
    "new_matrice"
   ]
  },
  {
   "cell_type": "code",
   "execution_count": 9,
   "id": "81518f80",
   "metadata": {},
   "outputs": [
    {
     "data": {
      "text/plain": [
       "array([[1],\n",
       "       [2],\n",
       "       [3],\n",
       "       [4]])"
      ]
     },
     "execution_count": 9,
     "metadata": {},
     "output_type": "execute_result"
    }
   ],
   "source": [
    "vecteur = np.array([1, 2, 3, 4])\n",
    "vecteur.reshape(-1, 1)"
   ]
  },
  {
   "cell_type": "code",
   "execution_count": 10,
   "id": "5674058e",
   "metadata": {},
   "outputs": [
    {
     "data": {
      "text/plain": [
       "array([[7.37809804],\n",
       "       [7.79865926],\n",
       "       [7.73858543],\n",
       "       [6.02671168],\n",
       "       [8.27089578],\n",
       "       [7.08799402],\n",
       "       [6.97668401],\n",
       "       [7.75781059],\n",
       "       [7.26012931],\n",
       "       [5.39980403]])"
      ]
     },
     "execution_count": 10,
     "metadata": {},
     "output_type": "execute_result"
    }
   ],
   "source": [
    "np.dot(new_matrice, vecteur.reshape(-1, 1))"
   ]
  },
  {
   "cell_type": "code",
   "execution_count": 10,
   "id": "005e8b6f",
   "metadata": {},
   "outputs": [
    {
     "data": {
      "text/plain": [
       "array([[ 1.93173444e+00, -5.61975513e-03],\n",
       "       [ 1.17737166e+00, -3.37464019e-03],\n",
       "       [ 2.29399295e+00, -6.77894103e-03],\n",
       "       [ 1.72630512e+00, -5.14959513e-03],\n",
       "       [-1.90621780e-04,  3.41596417e-02],\n",
       "       [-9.62362236e-05,  1.73163950e-02],\n",
       "       [ 6.98529476e-02, -2.58235469e-05],\n",
       "       [-1.37284508e-04,  2.44902338e-02],\n",
       "       [ 6.79512076e-01, -1.95931809e-03],\n",
       "       [ 2.10240879e-01, -3.87831639e-04]])"
      ]
     },
     "execution_count": 10,
     "metadata": {},
     "output_type": "execute_result"
    }
   ],
   "source": [
    "model.forward(new_matrice)"
   ]
  },
  {
   "cell_type": "code",
   "execution_count": null,
   "id": "bbe84d2f",
   "metadata": {},
   "outputs": [
    {
     "data": {
      "text/plain": [
       "array([2.61077408, 3.45639661, 2.57217264, 3.40724596, 2.22215649,\n",
       "       3.60934251, 3.67117727, 3.65586571, 3.96123408, 2.28167499])"
      ]
     },
     "execution_count": 9,
     "metadata": {},
     "output_type": "execute_result"
    }
   ],
   "source": [
    "dot_product = np.dot(random_matrice, random_vecteur)\n",
    "dot_product"
   ]
  },
  {
   "cell_type": "code",
   "execution_count": null,
   "id": "249dc774",
   "metadata": {},
   "outputs": [
    {
     "data": {
      "text/plain": [
       "array([12.61077408, 13.45639661, 12.57217264, 13.40724596, 12.22215649,\n",
       "       13.60934251, 13.67117727, 13.65586571, 13.96123408, 12.28167499])"
      ]
     },
     "execution_count": 10,
     "metadata": {},
     "output_type": "execute_result"
    }
   ],
   "source": [
    "A = 10\n",
    "addition = dot_product + A\n",
    "addition"
   ]
  },
  {
   "cell_type": "code",
   "execution_count": null,
   "id": "42b9e451",
   "metadata": {},
   "outputs": [],
   "source": []
  }
 ],
 "metadata": {
  "kernelspec": {
   "display_name": ".venv",
   "language": "python",
   "name": "python3"
  },
  "language_info": {
   "codemirror_mode": {
    "name": "ipython",
    "version": 3
   },
   "file_extension": ".py",
   "mimetype": "text/x-python",
   "name": "python",
   "nbconvert_exporter": "python",
   "pygments_lexer": "ipython3",
   "version": "3.10.17"
  }
 },
 "nbformat": 4,
 "nbformat_minor": 5
}
