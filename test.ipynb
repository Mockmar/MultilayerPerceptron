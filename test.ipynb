{
 "cells": [
  {
   "cell_type": "code",
   "execution_count": 1,
   "id": "bc71e4c0",
   "metadata": {},
   "outputs": [],
   "source": [
    "import pandas as pd\n",
    "import numpy as np\n",
    "import matplotlib.pyplot as plt\n",
    "import seaborn as sns\n",
    "from Neuron.NeuronNetwork import Model\n",
    "from fonction_activation.LeakyRelu import LeakyRelu"
   ]
  },
  {
   "cell_type": "code",
   "execution_count": 2,
   "id": "589bf44c",
   "metadata": {},
   "outputs": [
    {
     "data": {
      "text/plain": [
       "(568, 32)"
      ]
     },
     "execution_count": 2,
     "metadata": {},
     "output_type": "execute_result"
    }
   ],
   "source": [
    "df = pd.read_csv('data/data.csv')\n",
    "matrice = df.to_numpy()\n",
    "matrice.shape"
   ]
  },
  {
   "cell_type": "code",
   "execution_count": 3,
   "id": "3b3cab78",
   "metadata": {},
   "outputs": [
    {
     "data": {
      "text/plain": [
       "array([[0.27947102, 0.42483868, 0.74964989],\n",
       "       [0.58192581, 0.56741167, 0.69397004],\n",
       "       [0.25515268, 0.38068358, 0.9073552 ],\n",
       "       [0.33150474, 0.37960771, 0.31199718],\n",
       "       [0.82285123, 0.9992389 , 0.48318892],\n",
       "       [0.05469494, 0.56821805, 0.63228766],\n",
       "       [0.21150249, 0.06017419, 0.88161104],\n",
       "       [0.72212348, 0.24548358, 0.84823999],\n",
       "       [0.18462945, 0.73701493, 0.53382333],\n",
       "       [0.05286021, 0.20387655, 0.31306357]])"
      ]
     },
     "execution_count": 3,
     "metadata": {},
     "output_type": "execute_result"
    }
   ],
   "source": [
    "random_matrice = np.random.rand(10, 3)\n",
    "random_matrice"
   ]
  },
  {
   "cell_type": "code",
   "execution_count": 4,
   "id": "0e8ef2f7",
   "metadata": {},
   "outputs": [
    {
     "name": "stdout",
     "output_type": "stream",
     "text": [
      "[[1.]\n",
      " [1.]\n",
      " [1.]\n",
      " [1.]\n",
      " [1.]\n",
      " [1.]\n",
      " [1.]\n",
      " [1.]\n",
      " [1.]\n",
      " [1.]]\n"
     ]
    }
   ],
   "source": [
    "unitaire = np.ones((random_matrice.shape[0], 1))\n",
    "print(unitaire)"
   ]
  },
  {
   "cell_type": "code",
   "execution_count": 5,
   "id": "02e7625e",
   "metadata": {},
   "outputs": [
    {
     "data": {
      "text/plain": [
       "(10, 4)"
      ]
     },
     "execution_count": 5,
     "metadata": {},
     "output_type": "execute_result"
    }
   ],
   "source": [
    "new_matrice = np.c_[random_matrice, unitaire]\n",
    "new_matrice.shape"
   ]
  },
  {
   "cell_type": "code",
   "execution_count": 6,
   "id": "a7d003e5",
   "metadata": {},
   "outputs": [
    {
     "data": {
      "text/plain": [
       "array([[0.27947102, 0.42483868, 0.74964989, 1.        ],\n",
       "       [0.58192581, 0.56741167, 0.69397004, 1.        ],\n",
       "       [0.25515268, 0.38068358, 0.9073552 , 1.        ],\n",
       "       [0.33150474, 0.37960771, 0.31199718, 1.        ],\n",
       "       [0.82285123, 0.9992389 , 0.48318892, 1.        ],\n",
       "       [0.05469494, 0.56821805, 0.63228766, 1.        ],\n",
       "       [0.21150249, 0.06017419, 0.88161104, 1.        ],\n",
       "       [0.72212348, 0.24548358, 0.84823999, 1.        ],\n",
       "       [0.18462945, 0.73701493, 0.53382333, 1.        ],\n",
       "       [0.05286021, 0.20387655, 0.31306357, 1.        ]])"
      ]
     },
     "execution_count": 6,
     "metadata": {},
     "output_type": "execute_result"
    }
   ],
   "source": [
    "new_matrice"
   ]
  },
  {
   "cell_type": "code",
   "execution_count": 7,
   "id": "70a66bdf",
   "metadata": {},
   "outputs": [],
   "source": [
    "model = Model()\n",
    "model.add_layer(neuron_count=3, activation_function=LeakyRelu, input_size=4)\n",
    "model.add_layer(neuron_count=3, activation_function=LeakyRelu)\n",
    "model.add_layer(neuron_count=2, activation_function=LeakyRelu)"
   ]
  },
  {
   "cell_type": "code",
   "execution_count": 8,
   "id": "ec45e30e",
   "metadata": {},
   "outputs": [
    {
     "data": {
      "text/plain": [
       "array([[0.27947102, 0.42483868, 0.74964989, 1.        ],\n",
       "       [0.58192581, 0.56741167, 0.69397004, 1.        ],\n",
       "       [0.25515268, 0.38068358, 0.9073552 , 1.        ],\n",
       "       [0.33150474, 0.37960771, 0.31199718, 1.        ],\n",
       "       [0.82285123, 0.9992389 , 0.48318892, 1.        ],\n",
       "       [0.05469494, 0.56821805, 0.63228766, 1.        ],\n",
       "       [0.21150249, 0.06017419, 0.88161104, 1.        ],\n",
       "       [0.72212348, 0.24548358, 0.84823999, 1.        ],\n",
       "       [0.18462945, 0.73701493, 0.53382333, 1.        ],\n",
       "       [0.05286021, 0.20387655, 0.31306357, 1.        ]])"
      ]
     },
     "execution_count": 8,
     "metadata": {},
     "output_type": "execute_result"
    }
   ],
   "source": [
    "new_matrice"
   ]
  },
  {
   "cell_type": "code",
   "execution_count": 9,
   "id": "81518f80",
   "metadata": {},
   "outputs": [
    {
     "data": {
      "text/plain": [
       "array([[1],\n",
       "       [2],\n",
       "       [3],\n",
       "       [4]])"
      ]
     },
     "execution_count": 9,
     "metadata": {},
     "output_type": "execute_result"
    }
   ],
   "source": [
    "vecteur = np.array([1, 2, 3, 4])\n",
    "vecteur.reshape(-1, 1)"
   ]
  },
  {
   "cell_type": "code",
   "execution_count": 10,
   "id": "5674058e",
   "metadata": {},
   "outputs": [
    {
     "data": {
      "text/plain": [
       "array([[7.37809804],\n",
       "       [7.79865926],\n",
       "       [7.73858543],\n",
       "       [6.02671168],\n",
       "       [8.27089578],\n",
       "       [7.08799402],\n",
       "       [6.97668401],\n",
       "       [7.75781059],\n",
       "       [7.26012931],\n",
       "       [5.39980403]])"
      ]
     },
     "execution_count": 10,
     "metadata": {},
     "output_type": "execute_result"
    }
   ],
   "source": [
    "np.dot(new_matrice, vecteur.reshape(-1, 1))"
   ]
  },
  {
   "cell_type": "code",
   "execution_count": 11,
   "id": "005e8b6f",
   "metadata": {},
   "outputs": [
    {
     "name": "stdout",
     "output_type": "stream",
     "text": [
      "Layer 0: input shape (10, 4)\n",
      "input[[0.27947102 0.42483868 0.74964989 1.        ]\n",
      " [0.58192581 0.56741167 0.69397004 1.        ]\n",
      " [0.25515268 0.38068358 0.9073552  1.        ]\n",
      " [0.33150474 0.37960771 0.31199718 1.        ]\n",
      " [0.82285123 0.9992389  0.48318892 1.        ]\n",
      " [0.05469494 0.56821805 0.63228766 1.        ]\n",
      " [0.21150249 0.06017419 0.88161104 1.        ]\n",
      " [0.72212348 0.24548358 0.84823999 1.        ]\n",
      " [0.18462945 0.73701493 0.53382333 1.        ]\n",
      " [0.05286021 0.20387655 0.31306357 1.        ]]\n",
      "weights[[0.26570959]\n",
      " [0.25839017]\n",
      " [0.66957238]\n",
      " [0.96901759]]\n",
      "[[1.65499472]\n",
      " [1.73491763]\n",
      " [1.74271898]\n",
      " [1.36409318]\n",
      " [1.76938052]\n",
      " [1.55373488]\n",
      " [1.63106666]\n",
      " [1.79228134]\n",
      " [1.56594618]\n",
      " [1.24536148]]\n",
      "input[[0.27947102 0.42483868 0.74964989 1.        ]\n",
      " [0.58192581 0.56741167 0.69397004 1.        ]\n",
      " [0.25515268 0.38068358 0.9073552  1.        ]\n",
      " [0.33150474 0.37960771 0.31199718 1.        ]\n",
      " [0.82285123 0.9992389  0.48318892 1.        ]\n",
      " [0.05469494 0.56821805 0.63228766 1.        ]\n",
      " [0.21150249 0.06017419 0.88161104 1.        ]\n",
      " [0.72212348 0.24548358 0.84823999 1.        ]\n",
      " [0.18462945 0.73701493 0.53382333 1.        ]\n",
      " [0.05286021 0.20387655 0.31306357 1.        ]]\n",
      "weights[[0.48751612]\n",
      " [0.08445827]\n",
      " [0.28444856]\n",
      " [0.83634297]]\n",
      "[[1.22170757]\n",
      " [1.36536257]\n",
      " [1.25098177]\n",
      " [1.11876503]\n",
      " [1.45933259]\n",
      " [1.09085167]\n",
      " [1.19530904]\n",
      " [1.45040356]\n",
      " [1.14044509]\n",
      " [0.96838272]]\n",
      "input[[0.27947102 0.42483868 0.74964989 1.        ]\n",
      " [0.58192581 0.56741167 0.69397004 1.        ]\n",
      " [0.25515268 0.38068358 0.9073552  1.        ]\n",
      " [0.33150474 0.37960771 0.31199718 1.        ]\n",
      " [0.82285123 0.9992389  0.48318892 1.        ]\n",
      " [0.05469494 0.56821805 0.63228766 1.        ]\n",
      " [0.21150249 0.06017419 0.88161104 1.        ]\n",
      " [0.72212348 0.24548358 0.84823999 1.        ]\n",
      " [0.18462945 0.73701493 0.53382333 1.        ]\n",
      " [0.05286021 0.20387655 0.31306357 1.        ]]\n",
      "weights[[0.78241003]\n",
      " [0.47097291]\n",
      " [0.02241331]\n",
      " [0.34795049]]\n",
      "[[0.78350106]\n",
      " [1.08604477]\n",
      " [0.74721299]\n",
      " [0.79310096]\n",
      " [1.47320185]\n",
      " [0.67253133]\n",
      " [0.56153239]\n",
      " [1.04757512]\n",
      " [0.85148523]\n",
      " [0.49234597]]\n",
      "Layer 1: input shape (3, 10, 1)\n"
     ]
    },
    {
     "ename": "ValueError",
     "evalue": "Input size must be 4, but got 10",
     "output_type": "error",
     "traceback": [
      "\u001b[0;31m---------------------------------------------------------------------------\u001b[0m",
      "\u001b[0;31mValueError\u001b[0m                                Traceback (most recent call last)",
      "Cell \u001b[0;32mIn[11], line 1\u001b[0m\n\u001b[0;32m----> 1\u001b[0m \u001b[43mmodel\u001b[49m\u001b[38;5;241;43m.\u001b[39;49m\u001b[43mforward\u001b[49m\u001b[43m(\u001b[49m\u001b[43mnew_matrice\u001b[49m\u001b[43m)\u001b[49m\n",
      "File \u001b[0;32m~/Documents/MultilayerPerceptron/Neuron/NeuronNetwork.py:78\u001b[0m, in \u001b[0;36mModel.forward\u001b[0;34m(self, inputs)\u001b[0m\n\u001b[1;32m     76\u001b[0m \u001b[38;5;28;01mfor\u001b[39;00m i, layer \u001b[38;5;129;01min\u001b[39;00m \u001b[38;5;28menumerate\u001b[39m(\u001b[38;5;28mself\u001b[39m\u001b[38;5;241m.\u001b[39mlayers):\n\u001b[1;32m     77\u001b[0m     \u001b[38;5;28mprint\u001b[39m(\u001b[38;5;124mf\u001b[39m\u001b[38;5;124m\"\u001b[39m\u001b[38;5;124mLayer \u001b[39m\u001b[38;5;132;01m{\u001b[39;00mi\u001b[38;5;132;01m}\u001b[39;00m\u001b[38;5;124m: input shape \u001b[39m\u001b[38;5;132;01m{\u001b[39;00minputs\u001b[38;5;241m.\u001b[39mshape\u001b[38;5;132;01m}\u001b[39;00m\u001b[38;5;124m\"\u001b[39m)\n\u001b[0;32m---> 78\u001b[0m     inputs \u001b[38;5;241m=\u001b[39m \u001b[43mlayer\u001b[49m\u001b[38;5;241;43m.\u001b[39;49m\u001b[43mforward\u001b[49m\u001b[43m(\u001b[49m\u001b[43minputs\u001b[49m\u001b[43m)\u001b[49m\n\u001b[1;32m     79\u001b[0m \u001b[38;5;28;01mreturn\u001b[39;00m inputs\n",
      "File \u001b[0;32m~/Documents/MultilayerPerceptron/Neuron/NeuronNetwork.py:44\u001b[0m, in \u001b[0;36mLayer.forward\u001b[0;34m(self, inputs)\u001b[0m\n\u001b[1;32m     43\u001b[0m \u001b[38;5;28;01mdef\u001b[39;00m\u001b[38;5;250m \u001b[39m\u001b[38;5;21mforward\u001b[39m(\u001b[38;5;28mself\u001b[39m, inputs):\n\u001b[0;32m---> 44\u001b[0m     \u001b[38;5;28;01mreturn\u001b[39;00m np\u001b[38;5;241m.\u001b[39marray([neuron\u001b[38;5;241m.\u001b[39mforward(inputs) \u001b[38;5;28;01mfor\u001b[39;00m neuron \u001b[38;5;129;01min\u001b[39;00m \u001b[38;5;28mself\u001b[39m\u001b[38;5;241m.\u001b[39mneurons])\n",
      "File \u001b[0;32m~/Documents/MultilayerPerceptron/Neuron/NeuronNetwork.py:44\u001b[0m, in \u001b[0;36m<listcomp>\u001b[0;34m(.0)\u001b[0m\n\u001b[1;32m     43\u001b[0m \u001b[38;5;28;01mdef\u001b[39;00m\u001b[38;5;250m \u001b[39m\u001b[38;5;21mforward\u001b[39m(\u001b[38;5;28mself\u001b[39m, inputs):\n\u001b[0;32m---> 44\u001b[0m     \u001b[38;5;28;01mreturn\u001b[39;00m np\u001b[38;5;241m.\u001b[39marray([\u001b[43mneuron\u001b[49m\u001b[38;5;241;43m.\u001b[39;49m\u001b[43mforward\u001b[49m\u001b[43m(\u001b[49m\u001b[43minputs\u001b[49m\u001b[43m)\u001b[49m \u001b[38;5;28;01mfor\u001b[39;00m neuron \u001b[38;5;129;01min\u001b[39;00m \u001b[38;5;28mself\u001b[39m\u001b[38;5;241m.\u001b[39mneurons])\n",
      "File \u001b[0;32m~/Documents/MultilayerPerceptron/Neuron/NeuronNetwork.py:17\u001b[0m, in \u001b[0;36mNeuron.forward\u001b[0;34m(self, inputs)\u001b[0m\n\u001b[1;32m     15\u001b[0m \u001b[38;5;28;01mdef\u001b[39;00m\u001b[38;5;250m \u001b[39m\u001b[38;5;21mforward\u001b[39m(\u001b[38;5;28mself\u001b[39m, inputs):\n\u001b[1;32m     16\u001b[0m     \u001b[38;5;28;01mif\u001b[39;00m inputs\u001b[38;5;241m.\u001b[39mshape[\u001b[38;5;241m1\u001b[39m] \u001b[38;5;241m!=\u001b[39m \u001b[38;5;28mself\u001b[39m\u001b[38;5;241m.\u001b[39minput_size:\n\u001b[0;32m---> 17\u001b[0m         \u001b[38;5;28;01mraise\u001b[39;00m \u001b[38;5;167;01mValueError\u001b[39;00m(\u001b[38;5;124mf\u001b[39m\u001b[38;5;124m\"\u001b[39m\u001b[38;5;124mInput size must be \u001b[39m\u001b[38;5;132;01m{\u001b[39;00m\u001b[38;5;28mself\u001b[39m\u001b[38;5;241m.\u001b[39minput_size\u001b[38;5;132;01m}\u001b[39;00m\u001b[38;5;124m, but got \u001b[39m\u001b[38;5;132;01m{\u001b[39;00minputs\u001b[38;5;241m.\u001b[39mshape[\u001b[38;5;241m1\u001b[39m]\u001b[38;5;132;01m}\u001b[39;00m\u001b[38;5;124m\"\u001b[39m)\n\u001b[1;32m     19\u001b[0m     \u001b[38;5;28mprint\u001b[39m(\u001b[38;5;124mf\u001b[39m\u001b[38;5;124m\"\u001b[39m\u001b[38;5;124minput\u001b[39m\u001b[38;5;132;01m{\u001b[39;00minputs\u001b[38;5;132;01m}\u001b[39;00m\u001b[38;5;130;01m\\n\u001b[39;00m\u001b[38;5;124mweights\u001b[39m\u001b[38;5;132;01m{\u001b[39;00m\u001b[38;5;28mself\u001b[39m\u001b[38;5;241m.\u001b[39mweights\u001b[38;5;241m.\u001b[39mreshape(\u001b[38;5;241m-\u001b[39m\u001b[38;5;241m1\u001b[39m,\u001b[38;5;250m \u001b[39m\u001b[38;5;241m1\u001b[39m)\u001b[38;5;132;01m}\u001b[39;00m\u001b[38;5;124m\"\u001b[39m)\n\u001b[1;32m     21\u001b[0m     z \u001b[38;5;241m=\u001b[39m np\u001b[38;5;241m.\u001b[39mdot(inputs, \u001b[38;5;28mself\u001b[39m\u001b[38;5;241m.\u001b[39mweights\u001b[38;5;241m.\u001b[39mreshape(\u001b[38;5;241m-\u001b[39m\u001b[38;5;241m1\u001b[39m, \u001b[38;5;241m1\u001b[39m))\n",
      "\u001b[0;31mValueError\u001b[0m: Input size must be 4, but got 10"
     ]
    }
   ],
   "source": [
    "model.forward(new_matrice)"
   ]
  },
  {
   "cell_type": "code",
   "execution_count": null,
   "id": "bbe84d2f",
   "metadata": {},
   "outputs": [
    {
     "data": {
      "text/plain": [
       "array([2.61077408, 3.45639661, 2.57217264, 3.40724596, 2.22215649,\n",
       "       3.60934251, 3.67117727, 3.65586571, 3.96123408, 2.28167499])"
      ]
     },
     "execution_count": 9,
     "metadata": {},
     "output_type": "execute_result"
    }
   ],
   "source": [
    "dot_product = np.dot(random_matrice, random_vecteur)\n",
    "dot_product"
   ]
  },
  {
   "cell_type": "code",
   "execution_count": null,
   "id": "249dc774",
   "metadata": {},
   "outputs": [
    {
     "data": {
      "text/plain": [
       "array([12.61077408, 13.45639661, 12.57217264, 13.40724596, 12.22215649,\n",
       "       13.60934251, 13.67117727, 13.65586571, 13.96123408, 12.28167499])"
      ]
     },
     "execution_count": 10,
     "metadata": {},
     "output_type": "execute_result"
    }
   ],
   "source": [
    "A = 10\n",
    "addition = dot_product + A\n",
    "addition"
   ]
  },
  {
   "cell_type": "code",
   "execution_count": null,
   "id": "42b9e451",
   "metadata": {},
   "outputs": [],
   "source": []
  }
 ],
 "metadata": {
  "kernelspec": {
   "display_name": ".venv",
   "language": "python",
   "name": "python3"
  },
  "language_info": {
   "codemirror_mode": {
    "name": "ipython",
    "version": 3
   },
   "file_extension": ".py",
   "mimetype": "text/x-python",
   "name": "python",
   "nbconvert_exporter": "python",
   "pygments_lexer": "ipython3",
   "version": "3.10.17"
  }
 },
 "nbformat": 4,
 "nbformat_minor": 5
}
